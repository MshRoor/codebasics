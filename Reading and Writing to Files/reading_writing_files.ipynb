{
 "cells": [
  {
   "attachments": {},
   "cell_type": "markdown",
   "metadata": {},
   "source": [
    "**Writing to a file**"
   ]
  },
  {
   "cell_type": "code",
   "execution_count": 5,
   "metadata": {},
   "outputs": [],
   "source": [
    "# First paratmeter is the path of the file, the second parameter is what we want to do with the file 'w' = write, 'a' = append and so on     \n",
    "f1 = open('F:\\\\Data Science\\\\Code\\\\Python\\\\Reading and Writing to Files\\\\funny.txt', 'w')\n",
    "f1.write('Lmao x2')\n",
    "f1.close()"
   ]
  },
  {
   "attachments": {},
   "cell_type": "markdown",
   "metadata": {},
   "source": [
    "**Reading a file**"
   ]
  },
  {
   "cell_type": "code",
   "execution_count": 1,
   "metadata": {},
   "outputs": [],
   "source": [
    "f2 = open('F:\\\\Data Science\\\\Code\\\\Python\\\\Reading and Writing to Files\\\\sth.txt', 'r')\n",
    "# print(f2.read())\n",
    "# f2.close()"
   ]
  },
  {
   "cell_type": "code",
   "execution_count": 25,
   "metadata": {},
   "outputs": [
    {
     "name": "stdout",
     "output_type": "stream",
     "text": [
      "['Teacher:', 'Why', 'are', 'you', 'late,', 'Frank?\\n']\n",
      "['Frank:', 'Because', 'of', 'the', 'sign.\\n']\n",
      "['Teacher:', 'What', 'sign?\\n']\n",
      "['Frank:', 'The', 'one', 'that', 'says', '\"School', 'Ahead,', 'Go', 'Slow\"']\n"
     ]
    }
   ],
   "source": [
    "#Print all the words in a line separately in a list\n",
    "for line in f2:\n",
    "    tokens = line.split(' ')\n",
    "    print(str(tokens))"
   ]
  },
  {
   "cell_type": "code",
   "execution_count": 2,
   "metadata": {},
   "outputs": [
    {
     "name": "stdout",
     "output_type": "stream",
     "text": [
      "6\n",
      "5\n",
      "3\n",
      "9\n"
     ]
    }
   ],
   "source": [
    "#Print the word count for each line\n",
    "for line in f2:\n",
    "    tokens = line.split(' ')\n",
    "    print(len(tokens))"
   ]
  },
  {
   "attachments": {},
   "cell_type": "markdown",
   "metadata": {},
   "source": [
    "**Use 'with' statement to ensure the file is closed automaitically**"
   ]
  },
  {
   "cell_type": "code",
   "execution_count": 27,
   "metadata": {},
   "outputs": [
    {
     "name": "stdout",
     "output_type": "stream",
     "text": [
      "Teacher: Why are you late, Frank?\n",
      "Frank: Because of the sign.\n",
      "Teacher: What sign?\n",
      "Frank: The one that says \"School Ahead, Go Slow\"\n"
     ]
    }
   ],
   "source": [
    "with open('F:\\\\Data Science\\\\Code\\\\Python\\\\Reading and Writing to Files\\\\sth.txt', 'r') as f3:\n",
    "    print(f3.read())"
   ]
  },
  {
   "attachments": {},
   "cell_type": "markdown",
   "metadata": {},
   "source": [
    "# Exercise"
   ]
  },
  {
   "attachments": {},
   "cell_type": "markdown",
   "metadata": {},
   "source": [
    "**1. poem.txt contains famous poem \"Road not taken\" by poet Robert Frost. You have to read this file in your python program and find out words with maximum occurance.**"
   ]
  },
  {
   "cell_type": "code",
   "execution_count": 18,
   "metadata": {},
   "outputs": [
    {
     "name": "stdout",
     "output_type": "stream",
     "text": [
      "Words that have the most occurance [('I', 8), ('the', 8)]\n"
     ]
    }
   ],
   "source": [
    "with open('F:\\\\Data Science\\\\Code\\\\Python\\\\Reading and Writing to Files\\\\poem.txt', 'r') as poemF:\n",
    "    count =dict()\n",
    "    for line in poemF:\n",
    "        new_token = line.split(' ')\n",
    "        for word in new_token:\n",
    "            if word in count:\n",
    "                count[word] += 1\n",
    "            else:\n",
    "                count[word] = 1\n",
    "    # print(count)\n",
    "\n",
    "    count_sorted = sorted(count.items(), key = lambda x:x[1], reverse= True)\n",
    "    print('Words that have the most occurance',(count_sorted[0:2]))"
   ]
  },
  {
   "attachments": {},
   "cell_type": "markdown",
   "metadata": {},
   "source": [
    "**2. stocks.csv contains stock price, earnings per share and book value. You are writing a stock market application that will process this file and create a new file with financial metrics such as pe ratio and price to book ratio.**"
   ]
  },
  {
   "cell_type": "code",
   "execution_count": 18,
   "metadata": {},
   "outputs": [],
   "source": [
    "import csv\n",
    "with open('F:\\\\Data Science\\\\Code\\\\Python\\\\Reading and Writing to Files\\\\stocks.csv', 'r') as stockF:\n",
    "    with open('F:\\\\Data Science\\\\Code\\\\Python\\\\Reading and Writing to Files\\\\Output.csv', 'w') as outputF:\n",
    "        read_variable = (csv.reader(stockF, delimiter=','))\n",
    "        outputF.write('Company Name, PE ratio, PB ratio\\n')\n",
    "\n",
    "        count = 0\n",
    "        for column in read_variable:\n",
    "            if count == 0:  #Count to skip the title of the column\n",
    "                pass\n",
    "            else:\n",
    "                companyName = column[0]\n",
    "                price = column[1]\n",
    "                earningsPerShare = column[2]\n",
    "                bookValue = column[3]\n",
    "                \n",
    "                #Writing the values names into the new csv file. Adding a comma at the end so that the next input is in the next cell\n",
    "                outputF.write(f'{companyName},')\n",
    "\n",
    "                pe_ratio = round(float(price)/float(earningsPerShare), 2)\n",
    "                outputF.write(f'{pe_ratio},')\n",
    "                \n",
    "                pb_ratio = round(float(price)/float(bookValue), 2)\n",
    "                outputF.write(f'{pb_ratio}\\n')\n",
    "            count += 1\n"
   ]
  }
 ],
 "metadata": {
  "kernelspec": {
   "display_name": "Python 3",
   "language": "python",
   "name": "python3"
  },
  "language_info": {
   "codemirror_mode": {
    "name": "ipython",
    "version": 3
   },
   "file_extension": ".py",
   "mimetype": "text/x-python",
   "name": "python",
   "nbconvert_exporter": "python",
   "pygments_lexer": "ipython3",
   "version": "3.11.1"
  },
  "orig_nbformat": 4,
  "vscode": {
   "interpreter": {
    "hash": "52414b1b577e00fcade06a0e96737f1f4a6ddfbc07f512e326cc79472d6c6019"
   }
  }
 },
 "nbformat": 4,
 "nbformat_minor": 2
}
