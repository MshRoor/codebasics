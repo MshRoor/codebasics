{
 "cells": [
  {
   "attachments": {},
   "cell_type": "markdown",
   "metadata": {},
   "source": [
    "**Task 1**"
   ]
  },
  {
   "cell_type": "code",
   "execution_count": 5,
   "metadata": {},
   "outputs": [],
   "source": [
    "country_and_population = {'China' : 143, 'India' : 136, 'USA' : 32, 'Pakistan' : 21}"
   ]
  },
  {
   "cell_type": "code",
   "execution_count": 6,
   "metadata": {},
   "outputs": [],
   "source": [
    "# Function that prints all the countries along with their populations\n",
    "def print_countries_and_populations(dict):\n",
    "    for k, v in dict.items():\n",
    "        print(f\"{k} ==> {v}\")\n",
    "\n",
    "# Function that adds a new country into the dictionary\n",
    "def add_country(country, population):\n",
    "    country_and_population[country] = population\n",
    "    print_countries_and_populations(country_and_population)\n",
    "\n",
    "# Function that deletes a country from the dictionary\n",
    "def del_country(country):\n",
    "    del country_and_population[country]\n",
    "    print_countries_and_populations(country_and_population)\n",
    "\n",
    "# Function that prints the population of a SPECIFIC country from the dictionary\n",
    "def print_population(country):\n",
    "    print(country_and_population[country])\n"
   ]
  },
  {
   "attachments": {},
   "cell_type": "markdown",
   "metadata": {},
   "source": [
    "**Taking user inputs and then calling the appropriate functions**"
   ]
  },
  {
   "cell_type": "code",
   "execution_count": null,
   "metadata": {},
   "outputs": [],
   "source": [
    "user_Input = input('Do you want to print, add, remove or query?')\n",
    "\n",
    "if user_Input == 'print':\n",
    "    print_countries_and_populations(country_and_population)\n",
    "    \n",
    "elif user_Input == 'add':\n",
    "    add_what_country = input('What country would you like us to add?')\n",
    "    if add_what_country in country_and_population:\n",
    "        print('Country already exists.')\n",
    "    else:\n",
    "        add_what_population = input('Please enter the population.')\n",
    "        add_country(add_what_country, add_what_population)\n",
    "\n",
    "elif user_Input == 'remove':\n",
    "    remove_country = input('What country do you want to remove?')\n",
    "    if remove_country in country_and_population:\n",
    "        del_country(remove_country)\n",
    "    else:\n",
    "        print('Country does not exist in the dictionary.')\n",
    "\n",
    "elif user_Input == 'query':\n",
    "    what_country = input(\"Which country's population would you like to know?\")\n",
    "    if what_country in country_and_population:\n",
    "        print_population(what_country)\n",
    "    else:\n",
    "        print('Country not in the dictionary.')\n",
    "\n",
    "else:\n",
    "    print('Not a valid command.')\n"
   ]
  },
  {
   "attachments": {},
   "cell_type": "markdown",
   "metadata": {},
   "source": [
    "**Task 2**"
   ]
  },
  {
   "cell_type": "code",
   "execution_count": 5,
   "metadata": {},
   "outputs": [],
   "source": [
    "stock_with_prices = {'info' : [600, 630, 620], 'ril' : [1430, 1490, 1567], 'mtl' : [234, 180, 160]}"
   ]
  },
  {
   "cell_type": "code",
   "execution_count": 8,
   "metadata": {},
   "outputs": [],
   "source": [
    "# Function that prints the stocks with their respective prices and the averages of those prices\n",
    "def print_stock_prices_with_avg(stock_dict):\n",
    "    for k, v in stock_dict.items():\n",
    "        print(f\"{k} ==> {v} ==> avg: {sum(v)/ len(v):.2f}\")\n",
    "\n",
    "# Function that adds a new stock or adds new prices to existing stocks\n",
    "def add_new_stock_price(stock, prices, stock_prices_dict):\n",
    "    existing_prices = stock_prices_dict.get(stock, [])\n",
    "    updated_prices = existing_prices + prices\n",
    "    stock_prices_dict[stock] = updated_prices\n",
    "    print_stock_prices_with_avg(stock_with_prices)\n",
    "    "
   ]
  },
  {
   "cell_type": "code",
   "execution_count": null,
   "metadata": {},
   "outputs": [],
   "source": [
    "user_Input = input('Do you want to print or add?')\n",
    "\n",
    "if(user_Input == 'print'):\n",
    "    print_stock_prices_with_avg(stock_with_prices)\n",
    "\n",
    "elif(user_Input == 'add'):\n",
    "    new_stock = input('Enter name of stock you want to add.')\n",
    "    new_stock_price = list(map(int, input('Enter stock price separated by space: ').split()))\n",
    "    add_new_stock_price(new_stock, new_stock_price, stock_with_prices)\n"
   ]
  },
  {
   "cell_type": "code",
   "execution_count": 14,
   "metadata": {},
   "outputs": [
    {
     "name": "stdout",
     "output_type": "stream",
     "text": [
      "The area is: 78.54\n",
      "The circumference is: 31.42\n",
      "The diameter is: 10.00\n"
     ]
    }
   ],
   "source": [
    "import math\n",
    "radius = float(input(\"Enter a radius\"))\n",
    "\n",
    "def circle_calc(r):\n",
    "    print(f'The area is: {math.pi*(r**2):.2f}')\n",
    "    print(f'The circumference is: {2*math.pi*r:.2f}')\n",
    "    print(f'The diameter is: {2*r:.2f}')\n",
    "\n",
    "circle_calc(radius)\n"
   ]
  },
  {
   "cell_type": "code",
   "execution_count": null,
   "metadata": {},
   "outputs": [],
   "source": []
  }
 ],
 "metadata": {
  "kernelspec": {
   "display_name": "Python 3",
   "language": "python",
   "name": "python3"
  },
  "language_info": {
   "codemirror_mode": {
    "name": "ipython",
    "version": 3
   },
   "file_extension": ".py",
   "mimetype": "text/x-python",
   "name": "python",
   "nbconvert_exporter": "python",
   "pygments_lexer": "ipython3",
   "version": "3.10.7"
  },
  "orig_nbformat": 4,
  "vscode": {
   "interpreter": {
    "hash": "c6028a8a5a12648e78fa32d0f161bce4cccc9ded56ee541b56c5f14e4c0285c4"
   }
  }
 },
 "nbformat": 4,
 "nbformat_minor": 2
}
