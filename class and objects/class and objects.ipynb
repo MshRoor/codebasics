{
 "cells": [
  {
   "cell_type": "code",
   "execution_count": 6,
   "metadata": {},
   "outputs": [],
   "source": [
    "class Human:\n",
    "    def __init__(self, n, o):\n",
    "        self.name = n\n",
    "        self.occupation = o\n",
    "\n",
    "    def do_work(self):\n",
    "        if self.occupation == 'tennis player':\n",
    "            print(self.name, 'plays tennis')\n",
    "        elif self.occupation == 'actor':\n",
    "            print(self.name, 'shoots a film')\n",
    "\n",
    "    def speaks(self):\n",
    "        print(self.name, 'asks how are you?')"
   ]
  },
  {
   "cell_type": "code",
   "execution_count": 7,
   "metadata": {},
   "outputs": [
    {
     "name": "stdout",
     "output_type": "stream",
     "text": [
      "Tom Cruise shoots a film\n",
      "Tom Cruise asks how are you?\n"
     ]
    }
   ],
   "source": [
    "tom = Human('Tom Cruise', 'actor')\n",
    "tom.do_work()\n",
    "tom.speaks()"
   ]
  },
  {
   "cell_type": "code",
   "execution_count": 9,
   "metadata": {},
   "outputs": [
    {
     "name": "stdout",
     "output_type": "stream",
     "text": [
      "Maria plays tennis\n",
      "Maria asks how are you?\n"
     ]
    }
   ],
   "source": [
    "maria = Human('Maria', 'tennis player')\n",
    "maria.do_work()\n",
    "maria.speaks()"
   ]
  },
  {
   "attachments": {},
   "cell_type": "markdown",
   "metadata": {},
   "source": [
    "# Excercise"
   ]
  },
  {
   "cell_type": "code",
   "execution_count": 8,
   "metadata": {},
   "outputs": [],
   "source": [
    "class Employee:\n",
    "    def __init__(self, i, n):\n",
    "        self.id = i\n",
    "        self.name = n\n",
    "    def show(self):\n",
    "        print('ID:',self.id,'Name:','self.name')\n",
    "    "
   ]
  },
  {
   "cell_type": "code",
   "execution_count": 9,
   "metadata": {},
   "outputs": [],
   "source": [
    "emp = Employee(1, \"coder\")\n"
   ]
  },
  {
   "cell_type": "code",
   "execution_count": null,
   "metadata": {},
   "outputs": [],
   "source": [
    "emp.show()"
   ]
  },
  {
   "attachments": {},
   "cell_type": "markdown",
   "metadata": {},
   "source": [
    "**Rerun above method to verify deletion after running each del property**"
   ]
  },
  {
   "cell_type": "code",
   "execution_count": 11,
   "metadata": {},
   "outputs": [],
   "source": [
    "del emp.id"
   ]
  },
  {
   "cell_type": "code",
   "execution_count": 6,
   "metadata": {},
   "outputs": [],
   "source": [
    "del emp"
   ]
  },
  {
   "cell_type": "code",
   "execution_count": null,
   "metadata": {},
   "outputs": [],
   "source": []
  }
 ],
 "metadata": {
  "kernelspec": {
   "display_name": "Python 3",
   "language": "python",
   "name": "python3"
  },
  "language_info": {
   "codemirror_mode": {
    "name": "ipython",
    "version": 3
   },
   "file_extension": ".py",
   "mimetype": "text/x-python",
   "name": "python",
   "nbconvert_exporter": "python",
   "pygments_lexer": "ipython3",
   "version": "3.11.1"
  },
  "orig_nbformat": 4,
  "vscode": {
   "interpreter": {
    "hash": "52414b1b577e00fcade06a0e96737f1f4a6ddfbc07f512e326cc79472d6c6019"
   }
  }
 },
 "nbformat": 4,
 "nbformat_minor": 2
}
