{
 "cells": [
  {
   "cell_type": "code",
   "execution_count": 1,
   "metadata": {},
   "outputs": [
    {
     "name": "stdout",
     "output_type": "stream",
     "text": [
      "Area of the traingle: 100.0\n",
      "Area of the rectangle: 200\n"
     ]
    }
   ],
   "source": [
    "def calculate_area(base, height, shape = 'triangle'):\n",
    "    if shape == 'triangle':\n",
    "        triangle_area = 0.5 * base * height\n",
    "        return triangle_area\n",
    "    elif shape == 'rectangle':\n",
    "        rectangle_area = base * height\n",
    "        return rectangle_area\n",
    "    else:\n",
    "        print(\"Shape entered is not a triangle or a rectangle!\")\n",
    "\n",
    "base = 10\n",
    "height = 20\n",
    "print('Area of the traingle:',calculate_area(base, height, 'triangle'))\n",
    "\n",
    "length = 10\n",
    "breadth = 20\n",
    "print('Area of the rectangle:',calculate_area(length, breadth, 'rectangle'))\n"
   ]
  },
  {
   "cell_type": "code",
   "execution_count": 2,
   "metadata": {},
   "outputs": [
    {
     "name": "stdout",
     "output_type": "stream",
     "text": [
      "\n",
      "*\n",
      "**\n",
      "***\n",
      "****\n",
      "*****\n"
     ]
    }
   ],
   "source": [
    "def print_pattern(n):\n",
    "    for i in range(n+1):\n",
    "        for j in range(i):\n",
    "            print('*', end='')\n",
    "        print('')\n",
    "\n",
    "print_pattern(5)"
   ]
  }
 ],
 "metadata": {
  "kernelspec": {
   "display_name": "Python 3",
   "language": "python",
   "name": "python3"
  },
  "language_info": {
   "codemirror_mode": {
    "name": "ipython",
    "version": 3
   },
   "file_extension": ".py",
   "mimetype": "text/x-python",
   "name": "python",
   "nbconvert_exporter": "python",
   "pygments_lexer": "ipython3",
   "version": "3.11.1"
  },
  "orig_nbformat": 4,
  "vscode": {
   "interpreter": {
    "hash": "52414b1b577e00fcade06a0e96737f1f4a6ddfbc07f512e326cc79472d6c6019"
   }
  }
 },
 "nbformat": 4,
 "nbformat_minor": 2
}
