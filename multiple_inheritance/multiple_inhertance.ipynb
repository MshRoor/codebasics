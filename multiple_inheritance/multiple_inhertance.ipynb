{
 "cells": [
  {
   "cell_type": "code",
   "execution_count": 1,
   "metadata": {},
   "outputs": [],
   "source": [
    "class Father():\n",
    "    def gardening(self):\n",
    "        print('I enjoy gardening')\n",
    "\n",
    "class Mother():\n",
    "    def cooking(self):\n",
    "        print('I love cooking')\n",
    "\n",
    "class Child(Father, Mother):\n",
    "    def sports(self):\n",
    "        print('I enjoy sports')"
   ]
  },
  {
   "cell_type": "code",
   "execution_count": 2,
   "metadata": {},
   "outputs": [
    {
     "name": "stdout",
     "output_type": "stream",
     "text": [
      "I enjoy gardening\n",
      "I love cooking\n",
      "I enjoy sports\n"
     ]
    }
   ],
   "source": [
    "c =Child()\n",
    "c.gardening()\n",
    "c.cooking()\n",
    "c.sports()"
   ]
  },
  {
   "cell_type": "code",
   "execution_count": 3,
   "metadata": {},
   "outputs": [],
   "source": [
    "class Father():\n",
    "    def skills(self):\n",
    "        print('I enjoy gardening')\n",
    "\n",
    "class Mother():\n",
    "    def skills(self):\n",
    "        print('I love cooking')\n",
    "\n",
    "class Child(Father, Mother):\n",
    "    def skills(self):\n",
    "        Father.skills(self)\n",
    "        Mother.skills(self)\n",
    "        print('I enjoy sports')"
   ]
  },
  {
   "cell_type": "code",
   "execution_count": 4,
   "metadata": {},
   "outputs": [
    {
     "name": "stdout",
     "output_type": "stream",
     "text": [
      "I enjoy gardening\n",
      "I love cooking\n",
      "I enjoy sports\n"
     ]
    }
   ],
   "source": [
    "c = Child()\n",
    "c.skills()"
   ]
  },
  {
   "attachments": {},
   "cell_type": "markdown",
   "metadata": {},
   "source": [
    "# Exercise"
   ]
  },
  {
   "cell_type": "code",
   "execution_count": 14,
   "metadata": {},
   "outputs": [],
   "source": [
    "class Teacher():\n",
    "    def teaches(self, t):\n",
    "        self.teach = t\n",
    "        print(self.teach,'teaches.')\n",
    "\n",
    "class Student(Teacher):\n",
    "    def mastersDegree(self, s):\n",
    "        self.student = s\n",
    "        print(self.student,\"has enrolled into a master's program.\")\n",
    "\n",
    "class Youtuber(Student, Teacher):\n",
    "    def youtuber(self):\n",
    "        print('Student is a youtuber and teacher')"
   ]
  },
  {
   "cell_type": "code",
   "execution_count": 15,
   "metadata": {},
   "outputs": [
    {
     "name": "stdout",
     "output_type": "stream",
     "text": [
      "Youtuber teaches.\n",
      "Youtuber has enrolled into a master's program.\n",
      "Student is a youtuber and teacher\n"
     ]
    }
   ],
   "source": [
    "y = Youtuber()\n",
    "y.teaches('Youtuber')\n",
    "y.mastersDegree('Youtuber')\n",
    "y.youtuber()"
   ]
  }
 ],
 "metadata": {
  "kernelspec": {
   "display_name": "Python 3",
   "language": "python",
   "name": "python3"
  },
  "language_info": {
   "codemirror_mode": {
    "name": "ipython",
    "version": 3
   },
   "file_extension": ".py",
   "mimetype": "text/x-python",
   "name": "python",
   "nbconvert_exporter": "python",
   "pygments_lexer": "ipython3",
   "version": "3.11.1"
  },
  "orig_nbformat": 4,
  "vscode": {
   "interpreter": {
    "hash": "52414b1b577e00fcade06a0e96737f1f4a6ddfbc07f512e326cc79472d6c6019"
   }
  }
 },
 "nbformat": 4,
 "nbformat_minor": 2
}
